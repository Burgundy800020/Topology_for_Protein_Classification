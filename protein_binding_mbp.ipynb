{
 "cells": [
  {
   "cell_type": "code",
   "execution_count": 1,
   "id": "f7fe4b98",
   "metadata": {},
   "outputs": [],
   "source": [
    "import numpy as np\n",
    "import gudhi as gd\n",
    "from gudhi.datasets.generators import points\n",
    "import pandas as pd\n",
    "#import seaborn as sns\n",
    "import os\n",
    "import matplotlib.pyplot as plt\n",
    "from sklearn import manifold"
   ]
  },
  {
   "cell_type": "code",
   "execution_count": 54,
   "id": "438afa01",
   "metadata": {},
   "outputs": [
    {
     "name": "stdout",
     "output_type": "stream",
     "text": [
      "corr/open\\1ez9.corr_1.txt\n",
      "corr/open\\1fqa.corr_2.txt\n",
      "corr/open\\1fqb.corr_3.txt\n",
      "corr/open\\1jw4.corr_4.txt\n",
      "corr/open\\1jw5.corr_5.txt\n",
      "corr/open\\1lls.corr_6.txt\n",
      "corr/open\\1omp.corr_7.txt\n",
      "corr/closed\\1anf.corr_1.txt\n",
      "corr/closed\\1fqc.corr_2.txt\n",
      "corr/closed\\1fqd.corr_3.txt\n",
      "corr/closed\\1mpd.corr_4.txt\n",
      "corr/closed\\3hpi.corr_5.txt\n",
      "corr/closed\\3mbp.corr_6.txt\n",
      "corr/closed\\4mbp.corr_7.txt\n"
     ]
    }
   ],
   "source": [
    "idx = 1\n",
    "n = 14\n",
    "H = []\n",
    "for side in ('open', 'closed'): \n",
    "    directory = f\"corr/{side}\"\n",
    "    for file in os.listdir(directory):    \n",
    "        if not file.endswith(\"txt\"): continue\n",
    "        file = os.path.join(directory, file)\n",
    "        print(file)\n",
    "        corr = pd.read_csv(file, header=None, delim_whitespace=True) \n",
    "        dist = 1-np.abs(corr.to_numpy())\n",
    "        rips = gd.RipsComplex(distance_matrix=dist, \n",
    "                          max_edge_length=1.1)\n",
    "        simplexTree = rips.create_simplex_tree(max_dimension=2)\n",
    "        simplexTree.compute_persistence()\n",
    "        H.append([simplexTree.persistence_intervals_in_dimension(0),simplexTree.persistence_intervals_in_dimension(1)])\n",
    "        #dgm = simplexTree.persistence()\n",
    "        #dgmPlot = gd.plot_persistence_diagram(dgm)\n",
    "        #dgmPlot.set_title(f\"closed {idx}\")\n",
    "        #plt.savefig(f\"dgms/closed/corr_{idx}.png\")\n",
    "        idx+=1"
   ]
  },
  {
   "cell_type": "code",
   "execution_count": null,
   "id": "2e6e8f58",
   "metadata": {},
   "outputs": [],
   "source": [
    "idx = 1\n",
    "n = 14\n",
    "H = []\n",
    "\n",
    "directory = f\"testProteins/corr\"\n",
    "for file in os.listdir(directory):    \n",
    "    if not file.endswith(\"txt\"): continue\n",
    "    file = os.path.join(directory, file)\n",
    "    print(file)\n",
    "    corr = pd.read_csv(file, header=None, delim_whitespace=True) \n",
    "    dist = 1-np.abs(corr.to_numpy())\n",
    "    rips = gd.RipsComplex(distance_matrix=dist, \n",
    "                      max_edge_length=1.1)\n",
    "    simplexTree = rips.create_simplex_tree(max_dimension=2)\n",
    "    simplexTree.compute_persistence()\n",
    "    H.append([simplexTree.persistence_intervals_in_dimension(0),simplexTree.persistence_intervals_in_dimension(1)])\n",
    "    #dgm = simplexTree.persistence()\n",
    "    #dgmPlot = gd.plot_persistence_diagram(dgm)\n",
    "    #dgmPlot.set_title(f\"closed {idx}\")\n",
    "    #plt.savefig(f\"dgms/closed/corr_{idx}.png\")\n",
    "    idx+=1"
   ]
  },
  {
   "cell_type": "code",
   "execution_count": null,
   "id": "69c23f17",
   "metadata": {},
   "outputs": [],
   "source": []
  },
  {
   "cell_type": "code",
   "execution_count": 9,
   "id": "92d4d556",
   "metadata": {},
   "outputs": [
    {
     "data": {
      "text/html": [
       "<div>\n",
       "<style scoped>\n",
       "    .dataframe tbody tr th:only-of-type {\n",
       "        vertical-align: middle;\n",
       "    }\n",
       "\n",
       "    .dataframe tbody tr th {\n",
       "        vertical-align: top;\n",
       "    }\n",
       "\n",
       "    .dataframe thead th {\n",
       "        text-align: right;\n",
       "    }\n",
       "</style>\n",
       "<table border=\"1\" class=\"dataframe\">\n",
       "  <thead>\n",
       "    <tr style=\"text-align: right;\">\n",
       "      <th></th>\n",
       "      <th>0</th>\n",
       "      <th>1</th>\n",
       "      <th>2</th>\n",
       "      <th>3</th>\n",
       "      <th>4</th>\n",
       "      <th>5</th>\n",
       "      <th>6</th>\n",
       "      <th>7</th>\n",
       "      <th>8</th>\n",
       "      <th>9</th>\n",
       "      <th>...</th>\n",
       "      <th>730</th>\n",
       "      <th>731</th>\n",
       "      <th>732</th>\n",
       "      <th>733</th>\n",
       "      <th>734</th>\n",
       "      <th>735</th>\n",
       "      <th>736</th>\n",
       "      <th>737</th>\n",
       "      <th>738</th>\n",
       "      <th>739</th>\n",
       "    </tr>\n",
       "  </thead>\n",
       "  <tbody>\n",
       "    <tr>\n",
       "      <th>0</th>\n",
       "      <td>1.000000</td>\n",
       "      <td>0.985058</td>\n",
       "      <td>0.964092</td>\n",
       "      <td>0.925592</td>\n",
       "      <td>0.857319</td>\n",
       "      <td>0.842656</td>\n",
       "      <td>0.844197</td>\n",
       "      <td>0.869332</td>\n",
       "      <td>0.818714</td>\n",
       "      <td>0.784242</td>\n",
       "      <td>...</td>\n",
       "      <td>0.119400</td>\n",
       "      <td>0.077852</td>\n",
       "      <td>-0.009911</td>\n",
       "      <td>-0.030609</td>\n",
       "      <td>-0.020170</td>\n",
       "      <td>-0.077385</td>\n",
       "      <td>-0.217427</td>\n",
       "      <td>-0.191008</td>\n",
       "      <td>-0.171054</td>\n",
       "      <td>-0.287820</td>\n",
       "    </tr>\n",
       "    <tr>\n",
       "      <th>1</th>\n",
       "      <td>0.985058</td>\n",
       "      <td>1.000000</td>\n",
       "      <td>0.987842</td>\n",
       "      <td>0.959771</td>\n",
       "      <td>0.912884</td>\n",
       "      <td>0.910533</td>\n",
       "      <td>0.916379</td>\n",
       "      <td>0.928560</td>\n",
       "      <td>0.885143</td>\n",
       "      <td>0.835096</td>\n",
       "      <td>...</td>\n",
       "      <td>0.165002</td>\n",
       "      <td>0.121553</td>\n",
       "      <td>0.029301</td>\n",
       "      <td>0.004580</td>\n",
       "      <td>0.013015</td>\n",
       "      <td>-0.046542</td>\n",
       "      <td>-0.196710</td>\n",
       "      <td>-0.173290</td>\n",
       "      <td>-0.154073</td>\n",
       "      <td>-0.282315</td>\n",
       "    </tr>\n",
       "    <tr>\n",
       "      <th>2</th>\n",
       "      <td>0.964092</td>\n",
       "      <td>0.987842</td>\n",
       "      <td>1.000000</td>\n",
       "      <td>0.984831</td>\n",
       "      <td>0.957291</td>\n",
       "      <td>0.953266</td>\n",
       "      <td>0.947564</td>\n",
       "      <td>0.942463</td>\n",
       "      <td>0.890229</td>\n",
       "      <td>0.816169</td>\n",
       "      <td>...</td>\n",
       "      <td>0.211442</td>\n",
       "      <td>0.169678</td>\n",
       "      <td>0.081345</td>\n",
       "      <td>0.057084</td>\n",
       "      <td>0.063365</td>\n",
       "      <td>0.006984</td>\n",
       "      <td>-0.139058</td>\n",
       "      <td>-0.118902</td>\n",
       "      <td>-0.102273</td>\n",
       "      <td>-0.229327</td>\n",
       "    </tr>\n",
       "    <tr>\n",
       "      <th>3</th>\n",
       "      <td>0.925592</td>\n",
       "      <td>0.959771</td>\n",
       "      <td>0.984831</td>\n",
       "      <td>1.000000</td>\n",
       "      <td>0.986926</td>\n",
       "      <td>0.967438</td>\n",
       "      <td>0.950162</td>\n",
       "      <td>0.907782</td>\n",
       "      <td>0.845294</td>\n",
       "      <td>0.737431</td>\n",
       "      <td>...</td>\n",
       "      <td>0.218795</td>\n",
       "      <td>0.170788</td>\n",
       "      <td>0.092423</td>\n",
       "      <td>0.067447</td>\n",
       "      <td>0.057188</td>\n",
       "      <td>0.003556</td>\n",
       "      <td>-0.133879</td>\n",
       "      <td>-0.122880</td>\n",
       "      <td>-0.119010</td>\n",
       "      <td>-0.242334</td>\n",
       "    </tr>\n",
       "    <tr>\n",
       "      <th>4</th>\n",
       "      <td>0.857319</td>\n",
       "      <td>0.912884</td>\n",
       "      <td>0.957291</td>\n",
       "      <td>0.986926</td>\n",
       "      <td>1.000000</td>\n",
       "      <td>0.988091</td>\n",
       "      <td>0.967532</td>\n",
       "      <td>0.907754</td>\n",
       "      <td>0.847965</td>\n",
       "      <td>0.720371</td>\n",
       "      <td>...</td>\n",
       "      <td>0.264042</td>\n",
       "      <td>0.218201</td>\n",
       "      <td>0.143906</td>\n",
       "      <td>0.117865</td>\n",
       "      <td>0.104694</td>\n",
       "      <td>0.054632</td>\n",
       "      <td>-0.079007</td>\n",
       "      <td>-0.072976</td>\n",
       "      <td>-0.072206</td>\n",
       "      <td>-0.194954</td>\n",
       "    </tr>\n",
       "    <tr>\n",
       "      <th>...</th>\n",
       "      <td>...</td>\n",
       "      <td>...</td>\n",
       "      <td>...</td>\n",
       "      <td>...</td>\n",
       "      <td>...</td>\n",
       "      <td>...</td>\n",
       "      <td>...</td>\n",
       "      <td>...</td>\n",
       "      <td>...</td>\n",
       "      <td>...</td>\n",
       "      <td>...</td>\n",
       "      <td>...</td>\n",
       "      <td>...</td>\n",
       "      <td>...</td>\n",
       "      <td>...</td>\n",
       "      <td>...</td>\n",
       "      <td>...</td>\n",
       "      <td>...</td>\n",
       "      <td>...</td>\n",
       "      <td>...</td>\n",
       "      <td>...</td>\n",
       "    </tr>\n",
       "    <tr>\n",
       "      <th>735</th>\n",
       "      <td>-0.077385</td>\n",
       "      <td>-0.046542</td>\n",
       "      <td>0.006984</td>\n",
       "      <td>0.003556</td>\n",
       "      <td>0.054632</td>\n",
       "      <td>0.086719</td>\n",
       "      <td>0.074817</td>\n",
       "      <td>0.077314</td>\n",
       "      <td>0.077129</td>\n",
       "      <td>0.053312</td>\n",
       "      <td>...</td>\n",
       "      <td>0.908590</td>\n",
       "      <td>0.941517</td>\n",
       "      <td>0.961226</td>\n",
       "      <td>0.966738</td>\n",
       "      <td>0.987671</td>\n",
       "      <td>1.000000</td>\n",
       "      <td>0.961294</td>\n",
       "      <td>0.975642</td>\n",
       "      <td>0.966870</td>\n",
       "      <td>0.907000</td>\n",
       "    </tr>\n",
       "    <tr>\n",
       "      <th>736</th>\n",
       "      <td>-0.217427</td>\n",
       "      <td>-0.196710</td>\n",
       "      <td>-0.139058</td>\n",
       "      <td>-0.133879</td>\n",
       "      <td>-0.079007</td>\n",
       "      <td>-0.055667</td>\n",
       "      <td>-0.074718</td>\n",
       "      <td>-0.080302</td>\n",
       "      <td>-0.081877</td>\n",
       "      <td>-0.104994</td>\n",
       "      <td>...</td>\n",
       "      <td>0.811010</td>\n",
       "      <td>0.844200</td>\n",
       "      <td>0.910012</td>\n",
       "      <td>0.924625</td>\n",
       "      <td>0.923979</td>\n",
       "      <td>0.961294</td>\n",
       "      <td>1.000000</td>\n",
       "      <td>0.988965</td>\n",
       "      <td>0.960905</td>\n",
       "      <td>0.956702</td>\n",
       "    </tr>\n",
       "    <tr>\n",
       "      <th>737</th>\n",
       "      <td>-0.191008</td>\n",
       "      <td>-0.173290</td>\n",
       "      <td>-0.118902</td>\n",
       "      <td>-0.122880</td>\n",
       "      <td>-0.072976</td>\n",
       "      <td>-0.046241</td>\n",
       "      <td>-0.063004</td>\n",
       "      <td>-0.057145</td>\n",
       "      <td>-0.057194</td>\n",
       "      <td>-0.070243</td>\n",
       "      <td>...</td>\n",
       "      <td>0.822904</td>\n",
       "      <td>0.860888</td>\n",
       "      <td>0.909609</td>\n",
       "      <td>0.928657</td>\n",
       "      <td>0.946803</td>\n",
       "      <td>0.975642</td>\n",
       "      <td>0.988965</td>\n",
       "      <td>1.000000</td>\n",
       "      <td>0.984402</td>\n",
       "      <td>0.964225</td>\n",
       "    </tr>\n",
       "    <tr>\n",
       "      <th>738</th>\n",
       "      <td>-0.171054</td>\n",
       "      <td>-0.154073</td>\n",
       "      <td>-0.102273</td>\n",
       "      <td>-0.119010</td>\n",
       "      <td>-0.072206</td>\n",
       "      <td>-0.037369</td>\n",
       "      <td>-0.050263</td>\n",
       "      <td>-0.028108</td>\n",
       "      <td>-0.024169</td>\n",
       "      <td>-0.023017</td>\n",
       "      <td>...</td>\n",
       "      <td>0.794444</td>\n",
       "      <td>0.845879</td>\n",
       "      <td>0.871396</td>\n",
       "      <td>0.888834</td>\n",
       "      <td>0.939379</td>\n",
       "      <td>0.966870</td>\n",
       "      <td>0.960905</td>\n",
       "      <td>0.984402</td>\n",
       "      <td>1.000000</td>\n",
       "      <td>0.973127</td>\n",
       "    </tr>\n",
       "    <tr>\n",
       "      <th>739</th>\n",
       "      <td>-0.287820</td>\n",
       "      <td>-0.282315</td>\n",
       "      <td>-0.229327</td>\n",
       "      <td>-0.242334</td>\n",
       "      <td>-0.194954</td>\n",
       "      <td>-0.165871</td>\n",
       "      <td>-0.182543</td>\n",
       "      <td>-0.161957</td>\n",
       "      <td>-0.156115</td>\n",
       "      <td>-0.147988</td>\n",
       "      <td>...</td>\n",
       "      <td>0.678307</td>\n",
       "      <td>0.735829</td>\n",
       "      <td>0.790967</td>\n",
       "      <td>0.813822</td>\n",
       "      <td>0.856087</td>\n",
       "      <td>0.907000</td>\n",
       "      <td>0.956702</td>\n",
       "      <td>0.964225</td>\n",
       "      <td>0.973127</td>\n",
       "      <td>1.000000</td>\n",
       "    </tr>\n",
       "  </tbody>\n",
       "</table>\n",
       "<p>740 rows × 740 columns</p>\n",
       "</div>"
      ],
      "text/plain": [
       "          0         1         2         3         4         5         6    \\\n",
       "0    1.000000  0.985058  0.964092  0.925592  0.857319  0.842656  0.844197   \n",
       "1    0.985058  1.000000  0.987842  0.959771  0.912884  0.910533  0.916379   \n",
       "2    0.964092  0.987842  1.000000  0.984831  0.957291  0.953266  0.947564   \n",
       "3    0.925592  0.959771  0.984831  1.000000  0.986926  0.967438  0.950162   \n",
       "4    0.857319  0.912884  0.957291  0.986926  1.000000  0.988091  0.967532   \n",
       "..        ...       ...       ...       ...       ...       ...       ...   \n",
       "735 -0.077385 -0.046542  0.006984  0.003556  0.054632  0.086719  0.074817   \n",
       "736 -0.217427 -0.196710 -0.139058 -0.133879 -0.079007 -0.055667 -0.074718   \n",
       "737 -0.191008 -0.173290 -0.118902 -0.122880 -0.072976 -0.046241 -0.063004   \n",
       "738 -0.171054 -0.154073 -0.102273 -0.119010 -0.072206 -0.037369 -0.050263   \n",
       "739 -0.287820 -0.282315 -0.229327 -0.242334 -0.194954 -0.165871 -0.182543   \n",
       "\n",
       "          7         8         9    ...       730       731       732  \\\n",
       "0    0.869332  0.818714  0.784242  ...  0.119400  0.077852 -0.009911   \n",
       "1    0.928560  0.885143  0.835096  ...  0.165002  0.121553  0.029301   \n",
       "2    0.942463  0.890229  0.816169  ...  0.211442  0.169678  0.081345   \n",
       "3    0.907782  0.845294  0.737431  ...  0.218795  0.170788  0.092423   \n",
       "4    0.907754  0.847965  0.720371  ...  0.264042  0.218201  0.143906   \n",
       "..        ...       ...       ...  ...       ...       ...       ...   \n",
       "735  0.077314  0.077129  0.053312  ...  0.908590  0.941517  0.961226   \n",
       "736 -0.080302 -0.081877 -0.104994  ...  0.811010  0.844200  0.910012   \n",
       "737 -0.057145 -0.057194 -0.070243  ...  0.822904  0.860888  0.909609   \n",
       "738 -0.028108 -0.024169 -0.023017  ...  0.794444  0.845879  0.871396   \n",
       "739 -0.161957 -0.156115 -0.147988  ...  0.678307  0.735829  0.790967   \n",
       "\n",
       "          733       734       735       736       737       738       739  \n",
       "0   -0.030609 -0.020170 -0.077385 -0.217427 -0.191008 -0.171054 -0.287820  \n",
       "1    0.004580  0.013015 -0.046542 -0.196710 -0.173290 -0.154073 -0.282315  \n",
       "2    0.057084  0.063365  0.006984 -0.139058 -0.118902 -0.102273 -0.229327  \n",
       "3    0.067447  0.057188  0.003556 -0.133879 -0.122880 -0.119010 -0.242334  \n",
       "4    0.117865  0.104694  0.054632 -0.079007 -0.072976 -0.072206 -0.194954  \n",
       "..        ...       ...       ...       ...       ...       ...       ...  \n",
       "735  0.966738  0.987671  1.000000  0.961294  0.975642  0.966870  0.907000  \n",
       "736  0.924625  0.923979  0.961294  1.000000  0.988965  0.960905  0.956702  \n",
       "737  0.928657  0.946803  0.975642  0.988965  1.000000  0.984402  0.964225  \n",
       "738  0.888834  0.939379  0.966870  0.960905  0.984402  1.000000  0.973127  \n",
       "739  0.813822  0.856087  0.907000  0.956702  0.964225  0.973127  1.000000  \n",
       "\n",
       "[740 rows x 740 columns]"
      ]
     },
     "execution_count": 9,
     "metadata": {},
     "output_type": "execute_result"
    }
   ],
   "source": [
    "corr = pd.read_csv ( \"corrRemake/open/1ez9_8.txt\", header=None, delim_whitespace=True )\n",
    "corr"
   ]
  },
  {
   "cell_type": "code",
   "execution_count": 3,
   "id": "eff40e73",
   "metadata": {},
   "outputs": [
    {
     "data": {
      "text/plain": [
       "array([[0.        , 0.01494167, 0.0359077 , ..., 0.80899192, 0.8289459 ,\n",
       "        0.71217955],\n",
       "       [0.01494167, 0.        , 0.01215754, ..., 0.82670988, 0.84592744,\n",
       "        0.71768491],\n",
       "       [0.0359077 , 0.01215754, 0.        , ..., 0.88109803, 0.89772657,\n",
       "        0.77067305],\n",
       "       ...,\n",
       "       [0.80899192, 0.82670988, 0.88109803, ..., 0.        , 0.01559822,\n",
       "        0.03577452],\n",
       "       [0.8289459 , 0.84592744, 0.89772657, ..., 0.01559822, 0.        ,\n",
       "        0.02687282],\n",
       "       [0.71217955, 0.71768491, 0.77067305, ..., 0.03577452, 0.02687282,\n",
       "        0.        ]])"
      ]
     },
     "execution_count": 3,
     "metadata": {},
     "output_type": "execute_result"
    }
   ],
   "source": [
    "dist = 1-np.abs(corr.to_numpy())\n",
    "dist"
   ]
  },
  {
   "cell_type": "code",
   "execution_count": 7,
   "id": "8033dc62",
   "metadata": {},
   "outputs": [
    {
     "data": {
      "text/plain": [
       "(370, 370)"
      ]
     },
     "execution_count": 7,
     "metadata": {},
     "output_type": "execute_result"
    }
   ],
   "source": [
    "corr.shape"
   ]
  },
  {
   "cell_type": "code",
   "execution_count": 4,
   "id": "ae0586b2",
   "metadata": {},
   "outputs": [
    {
     "ename": "KeyboardInterrupt",
     "evalue": "",
     "output_type": "error",
     "traceback": [
      "\u001b[1;31m---------------------------------------------------------------------------\u001b[0m",
      "\u001b[1;31mKeyboardInterrupt\u001b[0m                         Traceback (most recent call last)",
      "Cell \u001b[1;32mIn [4], line 4\u001b[0m\n\u001b[0;32m      1\u001b[0m rips \u001b[38;5;241m=\u001b[39m gd\u001b[38;5;241m.\u001b[39mRipsComplex(distance_matrix\u001b[38;5;241m=\u001b[39mdist, \n\u001b[0;32m      2\u001b[0m                       max_edge_length\u001b[38;5;241m=\u001b[39m\u001b[38;5;241m1.1\u001b[39m)\n\u001b[0;32m      3\u001b[0m simplexTree \u001b[38;5;241m=\u001b[39m rips\u001b[38;5;241m.\u001b[39mcreate_simplex_tree(max_dimension\u001b[38;5;241m=\u001b[39m\u001b[38;5;241m2\u001b[39m)\n\u001b[1;32m----> 4\u001b[0m dgm \u001b[38;5;241m=\u001b[39m \u001b[43msimplexTree\u001b[49m\u001b[38;5;241;43m.\u001b[39;49m\u001b[43mpersistence\u001b[49m\u001b[43m(\u001b[49m\u001b[43m)\u001b[49m\n",
      "\u001b[1;31mKeyboardInterrupt\u001b[0m: "
     ]
    }
   ],
   "source": [
    "rips = gd.RipsComplex(distance_matrix=dist, \n",
    "                      max_edge_length=1.1)\n",
    "simplexTree = rips.create_simplex_tree(max_dimension=2)\n",
    "dgm = simplexTree.persistence()"
   ]
  },
  {
   "cell_type": "code",
   "execution_count": 5,
   "id": "f65304ac",
   "metadata": {},
   "outputs": [
    {
     "data": {
      "text/plain": [
       "(740, 740)"
      ]
     },
     "execution_count": 5,
     "metadata": {},
     "output_type": "execute_result"
    }
   ],
   "source": [
    "dist.shape"
   ]
  },
  {
   "cell_type": "code",
   "execution_count": 7,
   "id": "c8d1d5a7",
   "metadata": {},
   "outputs": [
    {
     "data": {
      "text/plain": [
       "array([], shape=(0, 2), dtype=float64)"
      ]
     },
     "execution_count": 7,
     "metadata": {},
     "output_type": "execute_result"
    }
   ],
   "source": [
    "simplexTree.persistence_intervals_in_dimension(2)"
   ]
  },
  {
   "cell_type": "code",
   "execution_count": null,
   "id": "084b32ad",
   "metadata": {},
   "outputs": [],
   "source": [
    "#chg"
   ]
  },
  {
   "cell_type": "code",
   "execution_count": null,
   "id": "18e03bbc",
   "metadata": {},
   "outputs": [],
   "source": [
    "dgmPlot = gd.plot_persistence_diagram(dgm)\n",
    "dgmPlot.set_title(\"open 1\")\n",
    "#plt.savefig('corr/open/corr_1.png')"
   ]
  },
  {
   "cell_type": "code",
   "execution_count": 18,
   "id": "1587b3cd",
   "metadata": {},
   "outputs": [
    {
     "ename": "AttributeError",
     "evalue": "'AxesSubplot' object has no attribute 'save'",
     "output_type": "error",
     "traceback": [
      "\u001b[1;31m---------------------------------------------------------------------------\u001b[0m",
      "\u001b[1;31mAttributeError\u001b[0m                            Traceback (most recent call last)",
      "Cell \u001b[1;32mIn [18], line 1\u001b[0m\n\u001b[1;32m----> 1\u001b[0m \u001b[43mdgmPlot\u001b[49m\u001b[38;5;241;43m.\u001b[39;49m\u001b[43msave\u001b[49m(\u001b[38;5;124m'\u001b[39m\u001b[38;5;124mcorr/open/corr_1.png\u001b[39m\u001b[38;5;124m'\u001b[39m)\n",
      "\u001b[1;31mAttributeError\u001b[0m: 'AxesSubplot' object has no attribute 'save'"
     ]
    }
   ],
   "source": [
    "dgmPlot.save('corr/open/corr_1.png')"
   ]
  },
  {
   "cell_type": "code",
   "execution_count": 1,
   "id": "940c8419",
   "metadata": {},
   "outputs": [],
   "source": [
    "#first examples in persistent homology"
   ]
  },
  {
   "cell_type": "code",
   "execution_count": 3,
   "id": "d7d38396",
   "metadata": {},
   "outputs": [
    {
     "data": {
      "text/plain": [
       "<matplotlib.collections.PathCollection at 0x230c1547e50>"
      ]
     },
     "execution_count": 3,
     "metadata": {},
     "output_type": "execute_result"
    },
    {
     "data": {
      "image/png": "[encoded data removed]",
      "text/plain": [
       "<Figure size 640x480 with 1 Axes>"
      ]
     },
     "metadata": {},
     "output_type": "display_data"
    }
   ],
   "source": [
    "data = points.sphere(n_samples = 50, ambient_dim = 2, radius = 1, sample = \"random\")\n",
    "xs = data[:, 0]\n",
    "ys = data[:, 1]\n",
    "plt.scatter(xs, ys)"
   ]
  },
  {
   "cell_type": "code",
   "execution_count": 8,
   "id": "4eb13485",
   "metadata": {},
   "outputs": [
    {
     "data": {
      "text/plain": [
       "<matplotlib.collections.PathCollection at 0x230c505c4f0>"
      ]
     },
     "execution_count": 8,
     "metadata": {},
     "output_type": "execute_result"
    },
    {
     "data": {
      "image/png": "[encoded data removed]",
      "text/plain": [
       "<Figure size 640x480 with 1 Axes>"
      ]
     },
     "metadata": {},
     "output_type": "display_data"
    }
   ],
   "source": [
    "#alternate \n",
    "circle1 = points.sphere(n_samples = 50, ambient_dim = 2, radius = 1, sample = \"random\")\n",
    "circle2 = points.sphere(n_samples = 50, ambient_dim = 2, radius = 1, sample = \"random\")\n",
    "x1 = circle1[:, 0]\n",
    "y1 = circle1[:, 1]\n",
    "x2 = circle2[:, 0]\n",
    "y2 = circle2[:, 1]\n",
    "x2 = x2+2\n",
    "xs = np.concatenate((x1, x2))\n",
    "ys = np.concatenate((y1, y2))\n",
    "\n",
    "plt.scatter(xs, ys)"
   ]
  },
  {
   "cell_type": "code",
   "execution_count": 9,
   "id": "4b6c297d",
   "metadata": {},
   "outputs": [],
   "source": [
    "alpha_complex = gd.AlphaComplex(points = data)\n",
    "simplex_tree = alpha_complex.create_simplex_tree()\n",
    "dgm = simplex_tree.persistence()"
   ]
  },
  {
   "cell_type": "code",
   "execution_count": 10,
   "id": "5f32d0d6",
   "metadata": {},
   "outputs": [
    {
     "data": {
      "text/plain": [
       "Text(0.5, 1.0, 'persistence diagram of circle')"
      ]
     },
     "execution_count": 10,
     "metadata": {},
     "output_type": "execute_result"
    },
    {
     "data": {
      "image/png": "[encoded data removed]",
      "text/plain": [
       "<Figure size 640x480 with 1 Axes>"
      ]
     },
     "metadata": {},
     "output_type": "display_data"
    }
   ],
   "source": [
    "dgmPlot = gd.plot_persistence_diagram(dgm)\n",
    "dgmPlot.set_title(\"persistence diagram of circle\")"
   ]
  },
  {
   "cell_type": "code",
   "execution_count": 4,
   "id": "a85c1afc",
   "metadata": {},
   "outputs": [],
   "source": [
    "mds = manifold.MDS(n_components=2, dissimilarity=\"precomputed\")"
   ]
  },
  {
   "cell_type": "code",
   "execution_count": 6,
   "id": "54b55c91",
   "metadata": {},
   "outputs": [
    {
     "name": "stderr",
     "output_type": "stream",
     "text": [
      "C:\\Users\\yizho\\pyver\\py3105\\lib\\site-packages\\sklearn\\manifold\\_mds.py:299: FutureWarning: The default value of `normalized_stress` will change to `'auto'` in version 1.4. To suppress this warning, manually set the value of `normalized_stress`.\n",
      "  warnings.warn(\n"
     ]
    },
    {
     "data": {
      "text/plain": [
       "<matplotlib.collections.PathCollection at 0x15cbd3344f0>"
      ]
     },
     "execution_count": 6,
     "metadata": {},
     "output_type": "execute_result"
    },
    {
     "data": {
      "image/png": "[encoded data removed]",
      "text/plain": [
       "<Figure size 640x480 with 1 Axes>"
      ]
     },
     "metadata": {},
     "output_type": "display_data"
    }
   ],
   "source": [
    "M = [[0, 2, 2], [2, 0, 2], [2, 2, 0]]\n",
    "embedding = mds.fit(M).embedding_\n",
    "plt.scatter(embedding [:, 0], embedding[:, 1])"
   ]
  },
  {
   "cell_type": "code",
   "execution_count": 15,
   "id": "ef85f0da",
   "metadata": {},
   "outputs": [
    {
     "data": {
      "text/html": [
       "<div>\n",
       "<style scoped>\n",
       "    .dataframe tbody tr th:only-of-type {\n",
       "        vertical-align: middle;\n",
       "    }\n",
       "\n",
       "    .dataframe tbody tr th {\n",
       "        vertical-align: top;\n",
       "    }\n",
       "\n",
       "    .dataframe thead th {\n",
       "        text-align: right;\n",
       "    }\n",
       "</style>\n",
       "<table border=\"1\" class=\"dataframe\">\n",
       "  <thead>\n",
       "    <tr style=\"text-align: right;\">\n",
       "      <th></th>\n",
       "      <th>0</th>\n",
       "    </tr>\n",
       "  </thead>\n",
       "  <tbody>\n",
       "    <tr>\n",
       "      <th>0</th>\n",
       "      <td>1</td>\n",
       "    </tr>\n",
       "    <tr>\n",
       "      <th>1</th>\n",
       "      <td>2</td>\n",
       "    </tr>\n",
       "    <tr>\n",
       "      <th>2</th>\n",
       "      <td>3</td>\n",
       "    </tr>\n",
       "    <tr>\n",
       "      <th>3</th>\n",
       "      <td>4</td>\n",
       "    </tr>\n",
       "    <tr>\n",
       "      <th>4</th>\n",
       "      <td>5</td>\n",
       "    </tr>\n",
       "  </tbody>\n",
       "</table>\n",
       "</div>"
      ],
      "text/plain": [
       "   0\n",
       "0  1\n",
       "1  2\n",
       "2  3\n",
       "3  4\n",
       "4  5"
      ]
     },
     "execution_count": 15,
     "metadata": {},
     "output_type": "execute_result"
    }
   ],
   "source": [
    "arr = pd.DataFrame([1, 2, 3, 4, 5])"
   ]
  },
  {
   "cell_type": "code",
   "execution_count": null,
   "id": "be7fae49",
   "metadata": {},
   "outputs": [],
   "source": []
  }
 ],
 "metadata": {
  "kernelspec": {
   "display_name": "Python 3 (ipykernel)",
   "language": "python",
   "name": "python3"
  },
  "language_info": {
   "codemirror_mode": {
    "name": "ipython",
    "version": 3
   },
   "file_extension": ".py",
   "mimetype": "text/x-python",
   "name": "python",
   "nbconvert_exporter": "python",
   "pygments_lexer": "ipython3",
   "version": "3.10.5"
  }
 },
 "nbformat": 4,
 "nbformat_minor": 5
}
