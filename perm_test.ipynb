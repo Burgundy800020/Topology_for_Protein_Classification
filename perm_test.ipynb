{
 "cells": [
  {
   "cell_type": "code",
   "execution_count": 1,
   "id": "4a472beb",
   "metadata": {},
   "outputs": [],
   "source": [
    "import numpy as np\n",
    "import gudhi as gd\n",
    "import pandas as pd\n",
    "import os\n",
    "import matplotlib.pyplot as plt\n",
    "from gudhi.representations import Landscape"
   ]
  },
  {
   "cell_type": "code",
   "execution_count": 2,
   "id": "b497f2ef",
   "metadata": {},
   "outputs": [],
   "source": [
    "def getDgms(dist):\n",
    "    rips = gd.RipsComplex(distance_matrix=dist, \n",
    "                          max_edge_length=1.1)\n",
    "    simplexTree = rips.create_simplex_tree(max_dimension=2)\n",
    "    simplexTree.compute_persistence()\n",
    "    dgm0, dgm1 = simplexTree.persistence_intervals_in_dimension(0),simplexTree.persistence_intervals_in_dimension(1)\n",
    "    dgm0[-1][1] = 1\n",
    "    return dgm0, dgm1"
   ]
  },
  {
   "cell_type": "code",
   "execution_count": 5,
   "id": "ac3220b3",
   "metadata": {},
   "outputs": [],
   "source": [
    "def saveDgm(dgm, side):\n",
    "    dgmPlot = gd.plot_persistence_diagram(dgm)\n",
    "    dgmPlot.set_title(f\"{side} {idx}\")\n",
    "    plt.savefig(f\"dgms/{side}/corr_{idx}.png\") "
   ]
  },
  {
   "cell_type": "code",
   "execution_count": null,
   "id": "089ea257",
   "metadata": {},
   "outputs": [],
   "source": [
    "#get landscape values"
   ]
  },
  {
   "cell_type": "code",
   "execution_count": 5,
   "id": "744f988c",
   "metadata": {},
   "outputs": [
    {
     "name": "stdout",
     "output_type": "stream",
     "text": [
      "corr/open\\1ez9.corr_1.txt\n",
      "corr/open\\1fqa.corr_2.txt\n",
      "corr/open\\1fqb.corr_3.txt\n",
      "corr/open\\1jw4.corr_4.txt\n",
      "corr/open\\1jw5.corr_5.txt\n",
      "corr/open\\1lls.corr_6.txt\n",
      "corr/open\\1omp.corr_7.txt\n",
      "corr/closed\\1anf.corr_1.txt\n",
      "corr/closed\\1fqc.corr_2.txt\n",
      "corr/closed\\1fqd.corr_3.txt\n",
      "corr/closed\\1mpd.corr_4.txt\n",
      "corr/closed\\3hpi.corr_5.txt\n",
      "corr/closed\\3mbp.corr_6.txt\n",
      "corr/closed\\4mbp.corr_7.txt\n"
     ]
    }
   ],
   "source": [
    "idx = 0\n",
    "n = 14\n",
    "H0 = np.zeros(n)\n",
    "H1 = np.zeros(n)\n",
    "landObj0 = Landscape(num_landscapes=370,resolution=50)\n",
    "landObj1 = Landscape(num_landscapes=73,resolution=50)\n",
    "\n",
    "\n",
    "for side in ('open', 'closed'): \n",
    "    directory = f\"corr/{side}\"\n",
    "    for file in os.listdir(directory):    \n",
    "        if not file.endswith(\"txt\"): continue\n",
    "        file = os.path.join(directory, file)\n",
    "        print(file)\n",
    "        corr = pd.read_csv(file, header=None, delim_whitespace=True) \n",
    "        dist = 1-np.abs(corr.to_numpy())\n",
    "        dgm0, dgm1 = getDgms(dist)\n",
    "        H0[idx] = landObj0.fit_transform([dgm0]).sum()/50\n",
    "        H1[idx] = landObj1.fit_transform([dgm1]).sum()/50\n",
    "        #dgm = simplexTree.persistence()\n",
    "        #saveDgm(dgm, side)\n",
    "        idx+=1"
   ]
  },
  {
   "cell_type": "code",
   "execution_count": 17,
   "id": "ea006690",
   "metadata": {},
   "outputs": [],
   "source": [
    "np.savetxt(\"testProteins/landscape_values_test/landscape_values_test_H0.txt\", H0)"
   ]
  },
  {
   "cell_type": "code",
   "execution_count": 3,
   "id": "43becda9",
   "metadata": {},
   "outputs": [],
   "source": [
    "#test set"
   ]
  },
  {
   "cell_type": "code",
   "execution_count": 6,
   "id": "66d0671c",
   "metadata": {},
   "outputs": [
    {
     "name": "stdout",
     "output_type": "stream",
     "text": [
      "testProteins/corr\\1DMB.txt\n",
      "testProteins/corr\\1MPB.txt\n",
      "testProteins/corr\\1MPC.txt\n",
      "testProteins/corr\\1ZIU.txt\n",
      "testProteins/corr\\1ZJL.txt\n",
      "testProteins/corr\\1ZKB.txt\n",
      "testProteins/corr\\1ZMG.txt\n"
     ]
    }
   ],
   "source": [
    "idx = 0\n",
    "n = 7\n",
    "H0 = np.zeros(n)\n",
    "H1 = np.zeros(n)\n",
    "landObj0 = Landscape(num_landscapes=370,resolution=50)\n",
    "landObj1 = Landscape(num_landscapes=73,resolution=50)\n",
    "\n",
    "\n",
    "\n",
    "directory = \"testProteins/corr\"\n",
    "for file in os.listdir(directory):    \n",
    "    if not file.endswith(\"txt\"): continue\n",
    "    file = os.path.join(directory, file)\n",
    "    print(file)\n",
    "    corr = pd.read_csv(file, header=None, delim_whitespace=True) \n",
    "    dist = 1-np.abs(corr.to_numpy())\n",
    "    dgm0, dgm1 = getDgms(dist)\n",
    "    H0[idx] = landObj0.fit_transform([dgm0]).sum()/50\n",
    "    H1[idx] = landObj1.fit_transform([dgm1]).sum()/50\n",
    "    #dgm = simplexTree.persistence()\n",
    "    #saveDgm(dgm, side)\n",
    "    idx+=1"
   ]
  },
  {
   "cell_type": "code",
   "execution_count": 8,
   "id": "a905603b",
   "metadata": {},
   "outputs": [
    {
     "data": {
      "text/plain": [
       "array([0.50215271, 0.52471153, 0.51984338, 0.52553888, 0.53179255,\n",
       "       0.56222796, 0.54623457])"
      ]
     },
     "execution_count": 8,
     "metadata": {},
     "output_type": "execute_result"
    }
   ],
   "source": [
    "H1"
   ]
  },
  {
   "cell_type": "code",
   "execution_count": null,
   "id": "6d359838",
   "metadata": {},
   "outputs": [],
   "source": [
    "#permutation test"
   ]
  },
  {
   "cell_type": "code",
   "execution_count": 12,
   "id": "3224705c",
   "metadata": {},
   "outputs": [],
   "source": [
    "def testStats(A):\n",
    "    m = A.size\n",
    "    return np.abs(A[0:m//2].mean()-A[m//2:m].mean())"
   ]
  },
  {
   "cell_type": "code",
   "execution_count": 18,
   "id": "5142e41d",
   "metadata": {},
   "outputs": [
    {
     "data": {
      "text/plain": [
       "0.000551"
      ]
     },
     "execution_count": 18,
     "metadata": {},
     "output_type": "execute_result"
    }
   ],
   "source": [
    "T = testStats(H0)\n",
    "B = int(1e6)\n",
    "Tperm = np.zeros(B)\n",
    "for b in range(B):\n",
    "    sample = np.random.choice(H0, 14, replace=False)\n",
    "    Tperm[b] = testStats(sample)\n",
    "    \n",
    "pVal = (Tperm >= T).mean()\n",
    "pVal"
   ]
  },
  {
   "cell_type": "code",
   "execution_count": 17,
   "id": "5a9567d7",
   "metadata": {},
   "outputs": [
    {
     "data": {
      "text/plain": [
       "1.1325747160364523"
      ]
     },
     "execution_count": 17,
     "metadata": {},
     "output_type": "execute_result"
    }
   ],
   "source": [
    "np.random.choice(H0, replace=False)"
   ]
  },
  {
   "cell_type": "code",
   "execution_count": null,
   "id": "ee96941e",
   "metadata": {},
   "outputs": [],
   "source": []
  }
 ],
 "metadata": {
  "kernelspec": {
   "display_name": "Python 3 (ipykernel)",
   "language": "python",
   "name": "python3"
  },
  "language_info": {
   "codemirror_mode": {
    "name": "ipython",
    "version": 3
   },
   "file_extension": ".py",
   "mimetype": "text/x-python",
   "name": "python",
   "nbconvert_exporter": "python",
   "pygments_lexer": "ipython3",
   "version": "3.10.5"
  }
 },
 "nbformat": 4,
 "nbformat_minor": 5
}
